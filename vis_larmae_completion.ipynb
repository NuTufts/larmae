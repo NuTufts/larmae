{
 "cells": [
  {
   "cell_type": "code",
   "execution_count": null,
   "id": "c8cb2571",
   "metadata": {},
   "outputs": [],
   "source": [
    "import os,sys\n",
    "import torch\n",
    "import numpy as np\n",
    "import chart_studio.plotly as py\n",
    "import plotly\n",
    "import plotly.express as px\n",
    "import plotly.graph_objects as go\n",
    "from plotly.offline import iplot, init_notebook_mode\n",
    "init_notebook_mode(connected=False)\n",
    "%load_ext autoreload\n",
    "%autoreload 2"
   ]
  },
  {
   "cell_type": "code",
   "execution_count": null,
   "id": "f32c72ff",
   "metadata": {},
   "outputs": [],
   "source": [
    "cfg = \"\"\"# LARMAE Config\n",
    "model:\n",
    "  weight_by_model: True\n",
    "  nonzero_pixel_threshold: -0.2\n",
    "  checkpoint_file: \"arxiv/fallen-snowflake-27/modelweights.larmae.102000th.tar\"\n",
    "#  checkpoint_file: \"arxiv/silvery-cosmos-16/modelweights.larmae.10000th.tar\"\n",
    "larmaeDataset:\n",
    "  filelist:\n",
    "    - larmaedata_run3extbnb_0000.root\n",
    "  crop_size: 512\n",
    "  adc_threshold: 10.0\n",
    "  min_crop_pixels: 1000\n",
    "  vector_index: 0\n",
    "  use_old_root2numpy: True\n",
    "\"\"\"\n",
    "\n",
    "with open('tmp.yaml','w') as f:\n",
    "    print(cfg,file=f)"
   ]
  },
  {
   "cell_type": "code",
   "execution_count": null,
   "id": "f8f7147d",
   "metadata": {},
   "outputs": [],
   "source": [
    "from larmae_dataset import larmaeDataset\n",
    "from larmae_mp_dataloader import larmaeMultiProcessDataloader\n",
    "\n",
    "loader = larmaeMultiProcessDataloader(\"tmp.yaml\", 0, 1, num_workers=1)"
   ]
  },
  {
   "cell_type": "code",
   "execution_count": null,
   "id": "fa597d24",
   "metadata": {},
   "outputs": [],
   "source": [
    "from model import load_model\n",
    "\n",
    "model = load_model(\"tmp.yaml\", strict=True)"
   ]
  },
  {
   "cell_type": "code",
   "execution_count": null,
   "id": "ea68be04",
   "metadata": {},
   "outputs": [],
   "source": [
    "# load data\n",
    "batch = next(iter(loader))\n",
    "print(\"batch contents: \",batch.keys())\n",
    "print(batch[\"entry\"])"
   ]
  },
  {
   "cell_type": "code",
   "execution_count": null,
   "id": "9e8a1064",
   "metadata": {},
   "outputs": [],
   "source": [
    "plot = go.Heatmap(z=batch[\"img\"][0,0,:,:],type='heatmap',colorscale='Viridis')\n",
    "fig = go.Figure(data=[plot])\n",
    "fig.show()"
   ]
  },
  {
   "cell_type": "code",
   "execution_count": null,
   "id": "25db2584",
   "metadata": {},
   "outputs": [],
   "source": [
    "# run model\n",
    "model.train()\n",
    "imgs = batch['img']\n",
    "with torch.no_grad():\n",
    "    maeloss, pred_masked, true_masked, masked_indices = model(imgs,return_outputs=True)\n",
    "print(\"maeloss: \",maeloss)"
   ]
  },
  {
   "cell_type": "code",
   "execution_count": null,
   "id": "341d5c06",
   "metadata": {},
   "outputs": [],
   "source": [
    "print(imgs.shape)\n",
    "print(pred_masked.shape)\n",
    "print(masked_indices.shape)"
   ]
  },
  {
   "cell_type": "code",
   "execution_count": null,
   "id": "e5e5e719",
   "metadata": {},
   "outputs": [],
   "source": [
    "from larmae_dataset import larmaeDataset\n",
    "\n",
    "# chunk input image\n",
    "img_chunks = larmaeDataset.chunk( imgs, 16 )\n",
    "print(img_chunks.shape)\n",
    "\n"
   ]
  },
  {
   "cell_type": "code",
   "execution_count": null,
   "id": "e47cd20c",
   "metadata": {},
   "outputs": [],
   "source": [
    "def unchunk(img_chunk, patch=16):\n",
    "    nh = int(512/patch)\n",
    "    out = np.zeros( (1,1,512,512) )\n",
    "    for ih in range(nh):\n",
    "        for iw in range(nh):\n",
    "            ichunk = ih*nh + iw\n",
    "            out[0,0,patch*ih:patch*(ih+1),patch*iw:patch*(iw+1)] = img_chunk[0,ichunk,:].reshape( (patch,patch) )\n",
    "    return out"
   ]
  },
  {
   "cell_type": "code",
   "execution_count": null,
   "id": "b31e9661",
   "metadata": {},
   "outputs": [],
   "source": [
    "img_inv = unchunk(img_chunks)\n",
    "test_unchunk =  torch.abs(imgs-img_inv).sum()\n",
    "print(test_unchunk)"
   ]
  },
  {
   "cell_type": "code",
   "execution_count": null,
   "id": "a2f0b8f1",
   "metadata": {},
   "outputs": [],
   "source": [
    "#threshold = -0.2\n",
    "threshold = 0.5\n",
    "print(\"apply threshold at ADC=\",threshold*50+20.0)\n",
    "\n",
    "# replace the masked patches\n",
    "rescale = pred_masked.detach().numpy() # for debugging\n",
    "#rescale = true_masked.detach().numpy()\n",
    "rescale[rescale<threshold] = -0.4\n",
    "img_pred = np.copy(img_chunks)\n",
    "img_pred[0,masked_indices[:],:] = (rescale+0.05)"
   ]
  },
  {
   "cell_type": "code",
   "execution_count": null,
   "id": "49fe554a",
   "metadata": {},
   "outputs": [],
   "source": [
    "pred_inv = unchunk(img_pred)"
   ]
  },
  {
   "cell_type": "code",
   "execution_count": null,
   "id": "b2b75fee",
   "metadata": {},
   "outputs": [],
   "source": [
    "# plot original image\n",
    "plot1 = go.Heatmap(z=imgs[0,0,:,:],type='heatmap',colorscale='Viridis')\n",
    "plot2 = go.Heatmap(z=pred_inv[0,0,:,:],type='heatmap',colorscale='Viridis')\n",
    "#plot2 = go.Heatmap(z=img_inv[0,0,:,:],type='heatmap',colorscale='Viridis') # debug check\n",
    "\n",
    "fig1 = go.Figure(data=[plot1])\n",
    "fig1.show()\n",
    "\n",
    "fig2 = go.Figure(data=[plot2])\n",
    "fig2.show()"
   ]
  },
  {
   "cell_type": "code",
   "execution_count": null,
   "id": "3e77dce9",
   "metadata": {},
   "outputs": [],
   "source": [
    "# run this cell to close the data loader properly.\n",
    "del loader"
   ]
  },
  {
   "cell_type": "code",
   "execution_count": null,
   "id": "7bd91f96",
   "metadata": {},
   "outputs": [],
   "source": []
  }
 ],
 "metadata": {
  "kernelspec": {
   "display_name": "Python 3 (ipykernel)",
   "language": "python",
   "name": "python3"
  },
  "language_info": {
   "codemirror_mode": {
    "name": "ipython",
    "version": 3
   },
   "file_extension": ".py",
   "mimetype": "text/x-python",
   "name": "python",
   "nbconvert_exporter": "python",
   "pygments_lexer": "ipython3",
   "version": "3.9.7"
  }
 },
 "nbformat": 4,
 "nbformat_minor": 5
}
