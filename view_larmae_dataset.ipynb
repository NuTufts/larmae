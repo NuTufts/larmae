{
 "cells": [
  {
   "cell_type": "code",
   "execution_count": null,
   "id": "6ceacd7d",
   "metadata": {},
   "outputs": [],
   "source": [
    "import os,sys\n",
    "import torch\n",
    "import numpy as np\n",
    "import yaml\n",
    "import chart_studio.plotly as py\n",
    "import plotly\n",
    "import plotly.graph_objects as go\n",
    "from plotly.offline import iplot, init_notebook_mode\n",
    "init_notebook_mode(connected=False)"
   ]
  },
  {
   "cell_type": "code",
   "execution_count": null,
   "id": "d1e286bf",
   "metadata": {},
   "outputs": [],
   "source": [
    "from larmae_dataset import larmaeDataset"
   ]
  },
  {
   "cell_type": "code",
   "execution_count": null,
   "id": "f1e1f462",
   "metadata": {},
   "outputs": [],
   "source": [
    "cfg = \"\"\"\\\n",
    "larmaeDataset:\n",
    "  filelist:\n",
    "    - test.root\n",
    "  crop_size: 512\n",
    "  adc_threshold: 10.0\n",
    "  min_crop_pixels: 1000                                                                                                                                                                       \n",
    "\"\"\""
   ]
  },
  {
   "cell_type": "code",
   "execution_count": null,
   "id": "f71a3f31",
   "metadata": {},
   "outputs": [],
   "source": [
    "with open('tmp.yaml','w') as f:\n",
    "    print(cfg,file=f)\n",
    "\n",
    "batch_size = 1\n",
    "dataset = larmaeDataset( 'tmp.yaml' )\n",
    "print(\"NENTRIES: \",len(dataset))\n",
    "shuffle = True\n",
    "\n",
    "loader = torch.utils.data.DataLoader(dataset,batch_size=batch_size,shuffle=shuffle)\n"
   ]
  },
  {
   "cell_type": "code",
   "execution_count": null,
   "id": "e13eb27e",
   "metadata": {},
   "outputs": [],
   "source": [
    "batch = next(iter(loader))\n",
    "print(batch.keys())\n",
    "\n",
    "img = batch['img_plane2']\n",
    "print(img.shape)\n",
    "print(\"num_nonzero_patches: \",batch[\"num_nonzero_patches\"])\n",
    "\n",
    "plot = go.Heatmap(z=img[0,0,:,:],type='heatmap',colorscale='Viridis')\n",
    "\n",
    "fig = go.Figure(data=[plot])\n",
    "fig.show()"
   ]
  },
  {
   "cell_type": "code",
   "execution_count": null,
   "id": "b28c97f7",
   "metadata": {},
   "outputs": [],
   "source": []
  },
  {
   "cell_type": "code",
   "execution_count": null,
   "id": "f86e0b16",
   "metadata": {},
   "outputs": [],
   "source": []
  },
  {
   "cell_type": "code",
   "execution_count": null,
   "id": "92c5d252",
   "metadata": {},
   "outputs": [],
   "source": []
  }
 ],
 "metadata": {
  "kernelspec": {
   "display_name": "Python 3 (ipykernel)",
   "language": "python",
   "name": "python3"
  },
  "language_info": {
   "codemirror_mode": {
    "name": "ipython",
    "version": 3
   },
   "file_extension": ".py",
   "mimetype": "text/x-python",
   "name": "python",
   "nbconvert_exporter": "python",
   "pygments_lexer": "ipython3",
   "version": "3.9.7"
  }
 },
 "nbformat": 4,
 "nbformat_minor": 5
}
