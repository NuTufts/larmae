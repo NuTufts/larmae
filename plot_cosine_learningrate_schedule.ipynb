{
 "cells": [
  {
   "cell_type": "code",
   "execution_count": null,
   "id": "7b71441b",
   "metadata": {},
   "outputs": [],
   "source": [
    "import os,sys\n",
    "import numpy as np\n",
    "import chart_studio.plotly as py\n",
    "import plotly\n",
    "import plotly.express as px\n",
    "import plotly.graph_objects as go\n",
    "from plotly.offline import iplot, init_notebook_mode\n",
    "init_notebook_mode(connected=False)\n",
    "%load_ext autoreload\n",
    "%autoreload 2"
   ]
  },
  {
   "cell_type": "code",
   "execution_count": null,
   "id": "5fd97aee",
   "metadata": {},
   "outputs": [],
   "source": [
    "from lr_cosine_annealing import get_learning_rate_cosine_anealing_w_warmup\n",
    "\n",
    "lr_max = 1.0e-4\n",
    "lr_min = 1.0e-6\n",
    "lr_warmup = 1.0e-6\n",
    "T = 1.0\n",
    "warmup_epochs = 1.0\n",
    "lr_decay_factor = 0.88\n",
    "\n",
    "x_min = 0.0\n",
    "x_max = 500\n",
    "Npts = 10000\n",
    "x = np.linspace(x_min,x_max,Npts)\n",
    "y = np.zeros(Npts)\n",
    "for iiter in range(Npts):\n",
    "    x[iiter] = x_min + (x_max-x_min)/float(Npts)*float(iiter)\n",
    "    y[iiter] = get_learning_rate_cosine_anealing_w_warmup( x[iiter], T, warmup_epochs, \n",
    "                                                          lr_min, lr_max, lr_warmup, \n",
    "                                                          lr_decay_factor )\n",
    "    \n",
    "fig = go.Figure()\n",
    "fig.add_trace(go.Scatter(x=x, y=y))\n",
    "fig.update_layout(\n",
    "    title=\"Learning rate schedule\", xaxis_title=\"epoch\", yaxis_title=\"learning rate\"\n",
    ")\n",
    "fig.show()\n"
   ]
  }
 ],
 "metadata": {
  "kernelspec": {
   "display_name": "Python 3 (ipykernel)",
   "language": "python",
   "name": "python3"
  },
  "language_info": {
   "codemirror_mode": {
    "name": "ipython",
    "version": 3
   },
   "file_extension": ".py",
   "mimetype": "text/x-python",
   "name": "python",
   "nbconvert_exporter": "python",
   "pygments_lexer": "ipython3",
   "version": "3.9.7"
  }
 },
 "nbformat": 4,
 "nbformat_minor": 5
}
